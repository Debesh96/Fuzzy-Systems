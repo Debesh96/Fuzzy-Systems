{
 "cells": [
  {
   "cell_type": "code",
   "execution_count": 10,
   "id": "0cfd605e",
   "metadata": {},
   "outputs": [],
   "source": [
    "import numpy as np"
   ]
  },
  {
   "cell_type": "code",
   "execution_count": 11,
   "id": "fe3a20e2",
   "metadata": {},
   "outputs": [],
   "source": [
    "#checks if the membership value is valid or not\n",
    "def fuzzyset(length):\n",
    "  s = []\n",
    "  for i in range(int(length)):\n",
    "    n = input('Enter the elements and their membership values separated by comma:')\n",
    "    s.append(n.split(','))\n",
    "    if (float(s[i][1]) >=0.0) and (float(s[i][1]) <=1.0):\n",
    "      s = s\n",
    "      print (s[i][1] + ' is valid membership value')\n",
    "  \n",
    "    else:\n",
    "      print (s[i][1] + ' is invalid membership value')\n",
    "      s.remove(s[i])\n",
    "  return s\n",
    "\n",
    "#Set operations\n",
    "\n",
    "def union(a,b):\n",
    "    t = []\n",
    "    for i in range (len(a)):\n",
    "        if (a[i][1] > b[i][1]):\n",
    "            t.append(a[i])\n",
    "        elif (b[i][1] > a[i][1]):\n",
    "            t.append(b[i])\n",
    "    print ('The uion of the given fuzzy sets is: ',t)\n",
    "\n",
    "def intersection(a1,b1):\n",
    "    c = []        \n",
    "    for i in range (len(a1)):\n",
    "        if (a1[i][0] == b1[i][0]):\n",
    "            if (a1[i][1] < b1[i][1]):\n",
    "                c.append(a1[i])\n",
    "            elif (b1[i][1] < a1[i][1]):\n",
    "                c.append(b1[i])\n",
    "    print ('The intersection of the given fuzzy sets is: ',c)\n",
    "    \n",
    "def subset (s1,s2):\n",
    "    sub = []\n",
    "    for n in range (len(s1)):\n",
    "        if (float(s1[n][1]) <= float(s2[n][1])):\n",
    "            sub.append(s1[n])\n",
    "        else:\n",
    "            sub = sub\n",
    "    print ('The subset of the given fuzzy sets: ',sub)\n",
    "       \n",
    "def alpha (al):\n",
    "    alp = []\n",
    "    alpha_value = input('Enter the value of alpha: ')\n",
    "    if (float(alpha_value) >=0) and (float(alpha_value) <= 1):\n",
    "        for i in range (len(al)):\n",
    "            if (float(al[i][1]) >= float(alpha_value)):\n",
    "                alp.append(al[i])\n",
    "            else:\n",
    "                pass\n",
    "    else:\n",
    "        print ('The value of alpha is invalid.')\n",
    "    \n",
    "    print ('The required set after alpha cut: ', alp)\n",
    "    \n",
    "def complement (u):\n",
    "    com = []\n",
    "    for i in range (len(u)):\n",
    "        #round(my_float, 2)\n",
    "        com.append(round((1.0 - float(u[i][1])),2))\n",
    "        u[i][1] = com [i]\n",
    "    print ('The complement of given fuzzy set: ',u)"
   ]
  },
  {
   "cell_type": "code",
   "execution_count": 12,
   "id": "80f1cffc",
   "metadata": {},
   "outputs": [
    {
     "name": "stdin",
     "output_type": "stream",
     "text": [
      "Enter the length of fuzzy set:  5\n"
     ]
    },
    {
     "name": "stdout",
     "output_type": "stream",
     "text": [
      "*****************************************\n",
      "Enter the first fuzzy set\n",
      "*****************************************\n"
     ]
    },
    {
     "name": "stdin",
     "output_type": "stream",
     "text": [
      "Enter the elements and their membership values separated by comma: 1,1\n"
     ]
    },
    {
     "name": "stdout",
     "output_type": "stream",
     "text": [
      "1 is valid membership value\n"
     ]
    },
    {
     "name": "stdin",
     "output_type": "stream",
     "text": [
      "Enter the elements and their membership values separated by comma: 2,0\n"
     ]
    },
    {
     "name": "stdout",
     "output_type": "stream",
     "text": [
      "0 is valid membership value\n"
     ]
    },
    {
     "name": "stdin",
     "output_type": "stream",
     "text": [
      "Enter the elements and their membership values separated by comma: 3,0.5\n"
     ]
    },
    {
     "name": "stdout",
     "output_type": "stream",
     "text": [
      "0.5 is valid membership value\n"
     ]
    },
    {
     "name": "stdin",
     "output_type": "stream",
     "text": [
      "Enter the elements and their membership values separated by comma: 4,0.7\n"
     ]
    },
    {
     "name": "stdout",
     "output_type": "stream",
     "text": [
      "0.7 is valid membership value\n"
     ]
    },
    {
     "name": "stdin",
     "output_type": "stream",
     "text": [
      "Enter the elements and their membership values separated by comma: 5,0.8\n"
     ]
    },
    {
     "name": "stdout",
     "output_type": "stream",
     "text": [
      "0.8 is valid membership value\n",
      "*****************************************\n",
      "Enter the second fuzzy set\n",
      "*****************************************\n"
     ]
    },
    {
     "name": "stdin",
     "output_type": "stream",
     "text": [
      "Enter the elements and their membership values separated by comma: 1,1\n"
     ]
    },
    {
     "name": "stdout",
     "output_type": "stream",
     "text": [
      "1 is valid membership value\n"
     ]
    },
    {
     "name": "stdin",
     "output_type": "stream",
     "text": [
      "Enter the elements and their membership values separated by comma: 2,0.5\n"
     ]
    },
    {
     "name": "stdout",
     "output_type": "stream",
     "text": [
      "0.5 is valid membership value\n"
     ]
    },
    {
     "name": "stdin",
     "output_type": "stream",
     "text": [
      "Enter the elements and their membership values separated by comma: 3,0.3\n"
     ]
    },
    {
     "name": "stdout",
     "output_type": "stream",
     "text": [
      "0.3 is valid membership value\n"
     ]
    },
    {
     "name": "stdin",
     "output_type": "stream",
     "text": [
      "Enter the elements and their membership values separated by comma: 4,0.8\n"
     ]
    },
    {
     "name": "stdout",
     "output_type": "stream",
     "text": [
      "0.8 is valid membership value\n"
     ]
    },
    {
     "name": "stdin",
     "output_type": "stream",
     "text": [
      "Enter the elements and their membership values separated by comma: 5,0.6\n"
     ]
    },
    {
     "name": "stdout",
     "output_type": "stream",
     "text": [
      "0.6 is valid membership value\n",
      "Set operations\n",
      "*****************************************\n",
      "Union\n",
      "The uion of the given fuzzy sets is:  [['2', '0.5'], ['3', '0.5'], ['4', '0.8'], ['5', '0.8']]\n",
      "*****************************************\n",
      "Intersection\n",
      "The intersection of the given fuzzy sets is:  [['2', '0'], ['3', '0.3'], ['4', '0.7'], ['5', '0.6']]\n",
      "*****************************************\n",
      "Subset\n",
      "The subset of the given fuzzy sets:  [['1', '1'], ['2', '0'], ['4', '0.7']]\n",
      "*****************************************\n",
      "alpha cut\n",
      "-----------------------------------------\n",
      "Alpha cut for the tall fuzzy set:\n"
     ]
    },
    {
     "name": "stdin",
     "output_type": "stream",
     "text": [
      "Enter the value of alpha:  0.5\n"
     ]
    },
    {
     "name": "stdout",
     "output_type": "stream",
     "text": [
      "The required set after alpha cut:  [['1', '1'], ['3', '0.5'], ['4', '0.7'], ['5', '0.8']]\n",
      "-----------------------------------------\n",
      "Alpha cut for the short fuzzy set:\n"
     ]
    },
    {
     "name": "stdin",
     "output_type": "stream",
     "text": [
      "Enter the value of alpha:  0.5\n"
     ]
    },
    {
     "name": "stdout",
     "output_type": "stream",
     "text": [
      "The required set after alpha cut:  [['1', '1'], ['2', '0.5'], ['4', '0.8'], ['5', '0.6']]\n",
      "*****************************************\n",
      "Complement\n",
      "-----------------------------------------\n",
      "The complement for the tall fuzzy set:\n",
      "The complement of given fuzzy set:  [['1', 0.0], ['2', 1.0], ['3', 0.5], ['4', 0.3], ['5', 0.2]]\n",
      "-----------------------------------------\n",
      "The complement for the short fuzzy set:\n",
      "The complement of given fuzzy set:  [['1', 0.0], ['2', 0.5], ['3', 0.7], ['4', 0.2], ['5', 0.4]]\n"
     ]
    }
   ],
   "source": [
    "l = input ('Enter the length of fuzzy set: ')\n",
    "print ('*****************************************')\n",
    "print ('Enter the first fuzzy set')\n",
    "print ('*****************************************')\n",
    "tall = fuzzyset(l)\n",
    "print ('*****************************************')\n",
    "print ('Enter the second fuzzy set')\n",
    "print ('*****************************************')\n",
    "short = fuzzyset(l)\n",
    "print ('Set operations')\n",
    "print ('*****************************************')\n",
    "print ('Union')\n",
    "union(tall,short)\n",
    "print ('*****************************************')\n",
    "print ('Intersection')\n",
    "intersection(tall, short)\n",
    "print ('*****************************************')\n",
    "print ('Subset')\n",
    "subset(tall,short)\n",
    "print ('*****************************************')\n",
    "print ('alpha cut')\n",
    "print ('-----------------------------------------')\n",
    "print ('Alpha cut for the tall fuzzy set:')\n",
    "alpha(tall)\n",
    "print ('-----------------------------------------')\n",
    "print ('Alpha cut for the short fuzzy set:')\n",
    "alpha(short)\n",
    "print ('*****************************************')\n",
    "print ('Complement')\n",
    "print ('-----------------------------------------')\n",
    "print ('The complement for the tall fuzzy set:')\n",
    "complement(tall)\n",
    "print ('-----------------------------------------')\n",
    "print ('The complement for the short fuzzy set:')\n",
    "complement(short)"
   ]
  }
 ],
 "metadata": {
  "kernelspec": {
   "display_name": "Python 3 (ipykernel)",
   "language": "python",
   "name": "python3"
  },
  "language_info": {
   "codemirror_mode": {
    "name": "ipython",
    "version": 3
   },
   "file_extension": ".py",
   "mimetype": "text/x-python",
   "name": "python",
   "nbconvert_exporter": "python",
   "pygments_lexer": "ipython3",
   "version": "3.9.7"
  }
 },
 "nbformat": 4,
 "nbformat_minor": 5
}
