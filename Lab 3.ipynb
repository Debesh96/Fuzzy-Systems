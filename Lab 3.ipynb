{
 "cells": [
  {
   "cell_type": "code",
   "execution_count": 1,
   "id": "69b10174-73bc-4b9c-a70f-9a1035cbbd9a",
   "metadata": {},
   "outputs": [],
   "source": [
    "import numpy as np"
   ]
  },
  {
   "cell_type": "code",
   "execution_count": 2,
   "id": "0b585206-1549-4bcc-9f92-ed4c824190cd",
   "metadata": {},
   "outputs": [],
   "source": [
    "#checks if the membership value is valid or not\n",
    "\n",
    "def fuzzyset(length):\n",
    "  s = []\n",
    "  for i in range(int(length)):\n",
    "    n = input('Enter the elements and their membership values separated by comma:')\n",
    "    s.append(n.split(','))\n",
    "    if (float(s[i][1]) >=0.0) and (float(s[i][1]) <=1.0):\n",
    "      s = s\n",
    "      print (s[i][1] + ' is valid membership value')\n",
    "  \n",
    "    else:\n",
    "      print (s[i][1] + ' is invalid membership value')\n",
    "      s.remove(s[i])\n",
    "  return s\n",
    "\n",
    "#Functions to convert the fuzzy set into crisp set\n",
    "\n",
    "def height (f1):\n",
    "    d = np.array(f1, dtype = 'float64')[0:,1:]\n",
    "    return np.amax(d)\n",
    "\n",
    "def core (f2):\n",
    "    c = []\n",
    "    for i in range (len(f2)):\n",
    "        if (float(f2[i][1]) == 1.0):\n",
    "            c.append (f2[i][0])\n",
    "        else:\n",
    "            c = c\n",
    "    return c\n",
    "\n",
    "def support (f3):\n",
    "    s = []\n",
    "    for i in range (len(f3)):\n",
    "        if (float(f3[i][1]) > 0.0):\n",
    "            s.append (f3[i][0])\n",
    "        else:\n",
    "            s = s\n",
    "    return s\n",
    "\n",
    "def boundary (f4):\n",
    "    b = []\n",
    "    for i in range (len(f4)):\n",
    "        if (float(f4[i][1]) > 0.0) and (float(f4[i][1]) < 1.0):\n",
    "            b.append (f4[i][0])\n",
    "        else:\n",
    "            b = b\n",
    "    return b"
   ]
  },
  {
   "cell_type": "code",
   "execution_count": 3,
   "id": "8c107dd4-6d48-4c3d-91cb-6652ec37e990",
   "metadata": {},
   "outputs": [
    {
     "name": "stdin",
     "output_type": "stream",
     "text": [
      "Enter the length of fuzzy set:  6\n"
     ]
    },
    {
     "name": "stdout",
     "output_type": "stream",
     "text": [
      "*****************************************\n",
      "Enter the fuzzy set\n",
      "*****************************************\n"
     ]
    },
    {
     "name": "stdin",
     "output_type": "stream",
     "text": [
      "Enter the elements and their membership values separated by comma: 2,0.5\n"
     ]
    },
    {
     "name": "stdout",
     "output_type": "stream",
     "text": [
      "0.5 is valid membership value\n"
     ]
    },
    {
     "name": "stdin",
     "output_type": "stream",
     "text": [
      "Enter the elements and their membership values separated by comma: 4,0.6\n"
     ]
    },
    {
     "name": "stdout",
     "output_type": "stream",
     "text": [
      "0.6 is valid membership value\n"
     ]
    },
    {
     "name": "stdin",
     "output_type": "stream",
     "text": [
      "Enter the elements and their membership values separated by comma: 8,1\n"
     ]
    },
    {
     "name": "stdout",
     "output_type": "stream",
     "text": [
      "1 is valid membership value\n"
     ]
    },
    {
     "name": "stdin",
     "output_type": "stream",
     "text": [
      "Enter the elements and their membership values separated by comma: 10,1\n"
     ]
    },
    {
     "name": "stdout",
     "output_type": "stream",
     "text": [
      "1 is valid membership value\n"
     ]
    },
    {
     "name": "stdin",
     "output_type": "stream",
     "text": [
      "Enter the elements and their membership values separated by comma: 12,0.7\n"
     ]
    },
    {
     "name": "stdout",
     "output_type": "stream",
     "text": [
      "0.7 is valid membership value\n"
     ]
    },
    {
     "name": "stdin",
     "output_type": "stream",
     "text": [
      "Enter the elements and their membership values separated by comma: 13,0\n"
     ]
    },
    {
     "name": "stdout",
     "output_type": "stream",
     "text": [
      "0 is valid membership value\n",
      "*****************************************\n",
      "The fuzzy set:  [['2', '0.5'], ['4', '0.6'], ['8', '1'], ['10', '1'], ['12', '0.7'], ['13', '0']]\n",
      "*****************************************\n",
      "Height\n",
      "The height of the given fuzzy set:  1.0\n",
      "*****************************************\n",
      "Core\n",
      "The core the given fuzzy set:  ['8', '10']\n",
      "*****************************************\n",
      "Support\n",
      "The support the given fuzzy set:  ['2', '4', '8', '10', '12']\n",
      "*****************************************\n",
      "Boundary\n",
      "The boundary of the given fuzzy set:  ['2', '4', '12']\n"
     ]
    }
   ],
   "source": [
    "l = input ('Enter the length of fuzzy set: ')\n",
    "print ('*****************************************')\n",
    "print ('Enter the fuzzy set')\n",
    "print ('*****************************************')\n",
    "A = fuzzyset(l)\n",
    "print ('*****************************************')\n",
    "print ('The fuzzy set: ', A)\n",
    "print ('*****************************************')\n",
    "print ('Height')\n",
    "print ('The height of the given fuzzy set: ', height(A))\n",
    "print ('*****************************************')\n",
    "print ('Core')\n",
    "print ('The core the given fuzzy set: ', core(A))\n",
    "print ('*****************************************')\n",
    "print ('Support')\n",
    "print ('The support the given fuzzy set: ', support(A))\n",
    "print ('*****************************************')\n",
    "print ('Boundary')\n",
    "print ('The boundary of the given fuzzy set: ', boundary (A))"
   ]
  }
 ],
 "metadata": {
  "kernelspec": {
   "display_name": "Python 3 (ipykernel)",
   "language": "python",
   "name": "python3"
  },
  "language_info": {
   "codemirror_mode": {
    "name": "ipython",
    "version": 3
   },
   "file_extension": ".py",
   "mimetype": "text/x-python",
   "name": "python",
   "nbconvert_exporter": "python",
   "pygments_lexer": "ipython3",
   "version": "3.9.7"
  }
 },
 "nbformat": 4,
 "nbformat_minor": 5
}
