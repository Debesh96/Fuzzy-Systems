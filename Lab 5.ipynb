{
 "cells": [
  {
   "cell_type": "code",
   "execution_count": 40,
   "id": "7b3f073c-8cb0-4832-9fa6-4244784e2462",
   "metadata": {},
   "outputs": [],
   "source": [
    "import numpy as np"
   ]
  },
  {
   "cell_type": "code",
   "execution_count": 1,
   "id": "14577b00-b64f-4339-9dcf-ac7f6bf11ed3",
   "metadata": {},
   "outputs": [],
   "source": [
    "#input the fuzzy elements from the user\n",
    "\n",
    "def fuzzyset(length):\n",
    "    s = []\n",
    "    for i in range (length):\n",
    "        n = int(input('Enter the elements of the fuzzy set'))\n",
    "        s.append(n)\n",
    "    return s\n",
    "\n",
    "#membership fucntions\n",
    "\n",
    "def R_function(f):\n",
    "    a = int(input('Enter the value of alpha'))\n",
    "    b = int(input('Enter the value of beta'))\n",
    "    membership_value = []\n",
    "    for i in f:\n",
    "        if (i <= a):\n",
    "            membership_value.append(0)\n",
    "        elif (i > a) and (i <= b):\n",
    "            m = (i - a)/(b - a)\n",
    "            membership_value.append(m)\n",
    "        elif (i > b):\n",
    "            membership_value.append(1)\n",
    "        else:\n",
    "            pass\n",
    "    print ('The membership values using R function: ', membership_value)\n",
    "    return membership_value\n",
    "\n",
    "def L_function(f):\n",
    "    a = int(input('Enter the value of alpha'))\n",
    "    b = int(input('Enter the value of beta'))\n",
    "    membership_value = []\n",
    "    for i in f:\n",
    "        if (i < a):\n",
    "            membership_value.append(1)\n",
    "        elif (i >= a) and (i <= b):\n",
    "            m = (i - a)/(b - a)\n",
    "            membership_value.append(m)\n",
    "        elif (i > b):\n",
    "            membership_value.append(0)\n",
    "        else:\n",
    "            pass\n",
    "    print ('The membership values using L function: ', membership_value)\n",
    "    return membership_value\n",
    "\n",
    "def Triangular_function(f):\n",
    "    a = int(input('Enter the value of alpha'))\n",
    "    b = int(input('Enter the value of beta'))\n",
    "    g = int(input('Enter the value of gama'))\n",
    "    membership_value = []\n",
    "    for i in f:\n",
    "        if (i <= a):\n",
    "            membership_value.append(0)\n",
    "        elif (i > a) and (i <= b):\n",
    "            m = (i - a)/(b - a)\n",
    "            membership_value.append(m)\n",
    "        elif (i > b) and (i <= g):\n",
    "            m1 = (g - i)/(g - b)\n",
    "            membership_value.append(m1)\n",
    "        elif (i > g):\n",
    "            membership_value.append(0)\n",
    "        else:\n",
    "            pass\n",
    "    print ('The membership values using Triangualr function: ', membership_value)\n",
    "    return membership_value\n",
    "\n",
    "def Trapezoidal_function(f):\n",
    "    a = int(input('Enter the value of alpha'))\n",
    "    b = int(input('Enter the value of beta'))\n",
    "    g = int(input('Enter the value of gama'))\n",
    "    d = int(input('Enter the value of delta'))\n",
    "    membership_value = []\n",
    "    for i in f:\n",
    "        if (i <= a):\n",
    "            membership_value.append(0)\n",
    "        elif (i > a) and (i <= b):\n",
    "            m = (i - a)/(b - a)\n",
    "            membership_value.append(m)\n",
    "        elif (i > b) and (i <= g):\n",
    "            membership_value.append(1)\n",
    "        elif (i > g) and (i <= d):\n",
    "            m2 = (d - i)/(d - g)\n",
    "            membership_value.append(m2)\n",
    "        elif (i > d):\n",
    "            membership_value.append(0)\n",
    "        else:\n",
    "            pass\n",
    "    print ('The membership values using Trapezoidal function: ', membership_value)\n",
    "    return membership_value\n",
    "\n",
    "def display_fuzzyset(f,m):\n",
    "    return ([i for i in zip (f,m)])\n",
    "        "
   ]
  },
  {
   "cell_type": "code",
   "execution_count": 2,
   "id": "bd7f1aeb-2cf0-44a8-9cc1-b2685c3ef775",
   "metadata": {},
   "outputs": [
    {
     "name": "stdin",
     "output_type": "stream",
     "text": [
      "Enter the length of fuzzy set:  7\n",
      "Enter the elements of the fuzzy set 20\n",
      "Enter the elements of the fuzzy set 40\n",
      "Enter the elements of the fuzzy set 45\n",
      "Enter the elements of the fuzzy set 50\n",
      "Enter the elements of the fuzzy set 55\n",
      "Enter the elements of the fuzzy set 60\n",
      "Enter the elements of the fuzzy set 65\n"
     ]
    },
    {
     "name": "stdout",
     "output_type": "stream",
     "text": [
      "The fuzzy elements:  [20, 40, 45, 50, 55, 60, 65]\n",
      "----------------------------------------------------------------\n",
      "                   R function                                   \n"
     ]
    },
    {
     "name": "stdin",
     "output_type": "stream",
     "text": [
      "Enter the value of alpha 40\n",
      "Enter the value of beta 60\n"
     ]
    },
    {
     "name": "stdout",
     "output_type": "stream",
     "text": [
      "The membership values using R function:  [0, 0, 0.25, 0.5, 0.75, 1.0, 1]\n",
      "The fuzzy set after using R function:  [(20, 0), (40, 0), (45, 0.25), (50, 0.5), (55, 0.75), (60, 1.0), (65, 1)]\n",
      "----------------------------------------------------------------\n",
      "                   L function                                   \n"
     ]
    },
    {
     "name": "stdin",
     "output_type": "stream",
     "text": [
      "Enter the value of alpha 40\n",
      "Enter the value of beta 60\n"
     ]
    },
    {
     "name": "stdout",
     "output_type": "stream",
     "text": [
      "The membership values using L function:  [1, 0.0, 0.25, 0.5, 0.75, 1.0, 0]\n",
      "The fuzzy set after using L function:  [(20, 1), (40, 0.0), (45, 0.25), (50, 0.5), (55, 0.75), (60, 1.0), (65, 0)]\n",
      "----------------------------------------------------------------\n",
      "                   Triangular function                          \n"
     ]
    },
    {
     "name": "stdin",
     "output_type": "stream",
     "text": [
      "Enter the value of alpha 40\n",
      "Enter the value of beta 50\n",
      "Enter the value of gama 55\n"
     ]
    },
    {
     "name": "stdout",
     "output_type": "stream",
     "text": [
      "The membership values using Triangualr function:  [0, 0, 0.5, 1.0, 0.0, 0, 0]\n",
      "The fuzzy set after using Triangular function:  [(20, 0), (40, 0), (45, 0.5), (50, 1.0), (55, 0.0), (60, 0), (65, 0)]\n",
      "----------------------------------------------------------------\n",
      "                   Trapezoidal function                         \n"
     ]
    },
    {
     "name": "stdin",
     "output_type": "stream",
     "text": [
      "Enter the value of alpha 40\n",
      "Enter the value of beta 50\n",
      "Enter the value of gama 55\n",
      "Enter the value of delta 60\n"
     ]
    },
    {
     "name": "stdout",
     "output_type": "stream",
     "text": [
      "The membership values using Trapezoidal function:  [0, 0, 0.5, 1.0, 1, 0.0, 0]\n",
      "The fuzzy set after using Trapezoidal function:  [(20, 0), (40, 0), (45, 0.5), (50, 1.0), (55, 1), (60, 0.0), (65, 0)]\n"
     ]
    }
   ],
   "source": [
    "l  = int(input('Enter the length of fuzzy set: '))\n",
    "fuzzy = fuzzyset(l)\n",
    "print ('The fuzzy elements: ', fuzzy)\n",
    "print ('----------------------------------------------------------------')\n",
    "print ('                   R function                                   ')\n",
    "print ('The fuzzy set after using R function: ',display_fuzzyset(fuzzy,R_function(fuzzy)))\n",
    "print ('----------------------------------------------------------------')\n",
    "print ('                   L function                                   ')\n",
    "print ('The fuzzy set after using L function: ',display_fuzzyset(fuzzy,L_function(fuzzy)))\n",
    "print ('----------------------------------------------------------------')\n",
    "print ('                   Triangular function                          ')\n",
    "print ('The fuzzy set after using Triangular function: ',display_fuzzyset(fuzzy,Triangular_function(fuzzy)))\n",
    "print ('----------------------------------------------------------------')\n",
    "print ('                   Trapezoidal function                         ')\n",
    "print ('The fuzzy set after using Trapezoidal function: ',display_fuzzyset(fuzzy,Trapezoidal_function(fuzzy)))\n",
    "\n",
    "\n",
    "# print ('The membership values using L function: ', L_function(fuzzy))\n",
    "# print ('The membership values using Triangular function: ', Triangular_function(fuzzy))\n",
    "# print ('The membership values using Trapezoidal function: ', Trapezoidal_function(fuzzy))"
   ]
  }
 ],
 "metadata": {
  "kernelspec": {
   "display_name": "Python 3 (ipykernel)",
   "language": "python",
   "name": "python3"
  },
  "language_info": {
   "codemirror_mode": {
    "name": "ipython",
    "version": 3
   },
   "file_extension": ".py",
   "mimetype": "text/x-python",
   "name": "python",
   "nbconvert_exporter": "python",
   "pygments_lexer": "ipython3",
   "version": "3.9.7"
  }
 },
 "nbformat": 4,
 "nbformat_minor": 5
}
