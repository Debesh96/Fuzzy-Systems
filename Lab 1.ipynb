{
 "cells": [
  {
   "cell_type": "code",
   "execution_count": 13,
   "id": "ce4e95da",
   "metadata": {},
   "outputs": [],
   "source": [
    "import numpy as np"
   ]
  },
  {
   "cell_type": "code",
   "execution_count": 14,
   "id": "152350f6",
   "metadata": {},
   "outputs": [],
   "source": [
    "#checks if the membership value is valid or not\n",
    "def fuzzyset(length):\n",
    "  s = []\n",
    "  for i in range(int(length)):\n",
    "    n = input('Enter the elements and their membership values separated by comma:')\n",
    "    s.append(n.split(','))\n",
    "    if (float(s[i][1]) > 0.0) and (float(s[i][1]) < 1.0):\n",
    "      s = s\n",
    "      print (s[i][1] + ' is valid membership value')\n",
    "  \n",
    "    else:\n",
    "      print (s[i][1] + ' is invalid membership value')\n",
    "      s.remove(s[i])\n",
    "  return s\n",
    "\n",
    "#converts fuzzy set for tall into it's corresponding crisp set under the mapping of characteristic function\n",
    "def tall_crisp(fuzzy):\n",
    "  np_fuzzy_tall = np.array(fuzzy)\n",
    "  threshold = 6\n",
    "  for i in range(len(np_fuzzy_tall)):\n",
    "    if (float(np_fuzzy_tall[i][0]) >= threshold):\n",
    "      #t.append(fuzzy[i][0])\n",
    "      np_fuzzy_tall[i][0] = 1\n",
    "    else:\n",
    "      np_fuzzy_tall[i][0] = 0\n",
    "\n",
    "  return np_fuzzy_tall[0: ,0]\n",
    "\n",
    "#converts fuzzy set for short into it's corresponding crisp set under the mapping of characteristic function\n",
    "def short_crisp(fuzzy):\n",
    "  np_fuzzy_short = np.array(fuzzy)\n",
    "  threshold = 6\n",
    "  for i in range(len(np_fuzzy_short)):\n",
    "    if (float(np_fuzzy_short[i][0]) < threshold):\n",
    "      np_fuzzy_short[i][0] = 1\n",
    "    else:\n",
    "      np_fuzzy_short[i][0] = 0\n",
    "\n",
    "  return np_fuzzy_short[0: ,0]\n",
    "\n",
    "#Set operations\n",
    "\n",
    "def union (c1, c2):\n",
    "    U1 = np.array(c1, dtype= 'float64')\n",
    "    U2 = np.array(c2, dtype='float64')\n",
    "    \n",
    "    return np.maximum(U1,U2)\n",
    "\n",
    "def intersection (a,b):\n",
    "    A1 = np.array(a, dtype= 'float64')\n",
    "    A2 = np.array(b, dtype='float64')\n",
    "    return np.minimum(A1,A2)\n",
    "\n",
    "def complement (u):\n",
    "    d = np.array(u, dtype = 'float64')\n",
    "    return (np.ones(len(u), dtype = 'float64') - d)\n",
    "\n",
    "def subset (e,f):\n",
    "    E1 = np.array(e, dtype = 'float64')\n",
    "    E2 = np.array(f, dtype = 'float64')\n",
    "    \n",
    "    return list(map(int, E1 <= E2))"
   ]
  },
  {
   "cell_type": "code",
   "execution_count": 15,
   "id": "fd88fe65",
   "metadata": {
    "scrolled": false
   },
   "outputs": [
    {
     "name": "stdout",
     "output_type": "stream",
     "text": [
      "Enter the length of fuzzy set: 3\n",
      "*****************************************\n",
      "Enter the first fuzzy set\n",
      "*****************************************\n",
      "Enter the elements and their membership values separated by comma:6,0.8\n",
      "0.8 is valid membership value\n",
      "Enter the elements and their membership values separated by comma:7,0.9\n",
      "0.9 is valid membership value\n",
      "Enter the elements and their membership values separated by comma:5,0.1\n",
      "0.1 is valid membership value\n",
      "*****************************************\n",
      "Enter the second fuzzy set\n",
      "*****************************************\n",
      "Enter the elements and their membership values separated by comma:6,0.2\n",
      "0.2 is valid membership value\n",
      "Enter the elements and their membership values separated by comma:7,0.1\n",
      "0.1 is valid membership value\n",
      "Enter the elements and their membership values separated by comma:5,0.9\n",
      "0.9 is valid membership value\n",
      "*****************************************\n",
      "Fuzzy sets\n",
      "*****************************************\n",
      "Fuzzy set for tall:  [['6', '0.8'], ['7', '0.9'], ['5', '0.1']]\n",
      "Fuzzy set for short:  [['6', '0.2'], ['7', '0.1'], ['5', '0.9']]\n",
      "*****************************************\n",
      "The universe of discourse is  ['0' '1']\n",
      "*****************************************\n",
      "Crisp sets\n",
      "*****************************************\n",
      "Crisp set for tall:  ['1' '1' '0']\n",
      "Crisp set for short:  ['0' '0' '1']\n",
      "*****************************************\n",
      "Set operations\n",
      "*****************************************\n",
      "Union\n",
      "The union of the given crisp sets is  [1. 1. 1.]\n",
      "*****************************************\n",
      "Intersection\n",
      "The intersection of the given crisp set is  [0. 0. 0.]\n",
      "*****************************************\n",
      "Complement\n",
      "The complement for the given crisp set is  [1. 0.]\n",
      "*****************************************\n",
      "Subset\n",
      "The required subset is  [0, 0, 1]\n"
     ]
    }
   ],
   "source": [
    "l = input ('Enter the length of fuzzy set: ')\n",
    "print ('*****************************************')\n",
    "print ('Enter the first fuzzy set')\n",
    "print ('*****************************************')\n",
    "tall = fuzzyset(l)\n",
    "print ('*****************************************')\n",
    "print ('Enter the second fuzzy set')\n",
    "print ('*****************************************')\n",
    "short = fuzzyset(l)\n",
    "short_crisp_set = short_crisp(short)\n",
    "tall_crisp_set = tall_crisp(tall)\n",
    "universe_of_discourse = np.unique(tall_crisp_set)\n",
    "print ('*****************************************')\n",
    "print ('Fuzzy sets')\n",
    "print ('*****************************************')\n",
    "print ('Fuzzy set for tall: ',tall)\n",
    "print ('Fuzzy set for short: ',short)\n",
    "print ('*****************************************')\n",
    "print ('The universe of discourse is ', universe_of_discourse)\n",
    "print ('*****************************************')\n",
    "print ('Crisp sets')\n",
    "print ('*****************************************')\n",
    "print ('Crisp set for tall: ' ,tall_crisp_set)\n",
    "print ('Crisp set for short: ' ,short_crisp_set)\n",
    "print ('*****************************************')\n",
    "print ('Set operations')\n",
    "print ('*****************************************')\n",
    "print ('Union')\n",
    "print ('The union of the given crisp sets is ', union(tall_crisp_set,short_crisp_set))\n",
    "print ('*****************************************')\n",
    "print ('Intersection')\n",
    "print ('The intersection of the given crisp set is ', intersection(tall_crisp_set, short_crisp_set))\n",
    "print ('*****************************************')\n",
    "print ('Complement')\n",
    "print ('The complement for the given crisp set is ', complement(universe_of_discourse))\n",
    "print ('*****************************************')\n",
    "print ('Subset')\n",
    "print ('The required subset is ', subset(tall_crisp_set,short_crisp_set))"
   ]
  },
  {
   "cell_type": "code",
   "execution_count": 10,
   "id": "eabb28d7",
   "metadata": {},
   "outputs": [],
   "source": [
    "def union (crisp1, crisp2):\n",
    "  union_set = np.maximum(crisp1, crisp2)\n",
    "  return union_set\n",
    "\n",
    "def intersection (crisp1, crisp2):\n",
    "  return np.minimum(crisp1, crisp2)\n"
   ]
  },
  {
   "cell_type": "code",
   "execution_count": 4,
   "id": "5cb6c324",
   "metadata": {
    "scrolled": true
   },
   "outputs": [
    {
     "name": "stdout",
     "output_type": "stream",
     "text": [
      "<class 'list'>\n"
     ]
    }
   ],
   "source": [
    "tall_crisp_set = [1,0,0]\n",
    "short_crisp_set = [0,1,1]\n",
    "print (type(tall_crisp_set))"
   ]
  },
  {
   "cell_type": "code",
   "execution_count": 14,
   "id": "744f526f",
   "metadata": {
    "scrolled": true
   },
   "outputs": [
    {
     "ename": "SyntaxError",
     "evalue": "invalid syntax (Temp/ipykernel_3052/2871125873.py, line 3)",
     "output_type": "error",
     "traceback": [
      "\u001b[1;36m  File \u001b[1;32m\"C:\\Users\\kapal\\AppData\\Local\\Temp/ipykernel_3052/2871125873.py\"\u001b[1;36m, line \u001b[1;32m3\u001b[0m\n\u001b[1;33m    print ('Union of two crisp sets: ' ,intersection(tall_crisp_set, short_crisp_set))\u001b[0m\n\u001b[1;37m    ^\u001b[0m\n\u001b[1;31mSyntaxError\u001b[0m\u001b[1;31m:\u001b[0m invalid syntax\n"
     ]
    }
   ],
   "source": [
    "#print ('Union of two crisp sets: ' ,union(tall_crisp_set, short_crisp_set))\n",
    "print ('Type: ' ,type(union(tall_crisp_set, short_crisp_set))\n",
    "print ('Union of two crisp sets: ' ,intersection(tall_crisp_set, short_crisp_set))"
   ]
  },
  {
   "cell_type": "code",
   "execution_count": 21,
   "id": "3c2da45a",
   "metadata": {},
   "outputs": [
    {
     "ename": "SyntaxError",
     "evalue": "unexpected EOF while parsing (Temp/ipykernel_3052/1403753932.py, line 10)",
     "output_type": "error",
     "traceback": [
      "\u001b[1;36m  File \u001b[1;32m\"C:\\Users\\kapal\\AppData\\Local\\Temp/ipykernel_3052/1403753932.py\"\u001b[1;36m, line \u001b[1;32m10\u001b[0m\n\u001b[1;33m    print ('Union of two crisp sets: ' ,type(union(tall_crisp_set, short_crisp_set))\u001b[0m\n\u001b[1;37m                                                                                    ^\u001b[0m\n\u001b[1;31mSyntaxError\u001b[0m\u001b[1;31m:\u001b[0m unexpected EOF while parsing\n"
     ]
    }
   ],
   "source": [
    "def union (crisp1, crisp2):\n",
    "  union_set = np.maximum(crisp1, crisp2)\n",
    "  return union_set\n",
    "\n",
    "def intersection (crisp1, crisp2):\n",
    "  return np.minimum(crisp1, crisp2)\n",
    "\n",
    "tall_crisp_set = [1,0,0]\n",
    "short_crisp_set = [0,1,1]\n",
    "print ('Union of two crisp sets: ' ,type(union(tall_crisp_set, short_crisp_set))"
   ]
  }
 ],
 "metadata": {
  "kernelspec": {
   "display_name": "Python 3 (ipykernel)",
   "language": "python",
   "name": "python3"
  },
  "language_info": {
   "codemirror_mode": {
    "name": "ipython",
    "version": 3
   },
   "file_extension": ".py",
   "mimetype": "text/x-python",
   "name": "python",
   "nbconvert_exporter": "python",
   "pygments_lexer": "ipython3",
   "version": "3.9.7"
  }
 },
 "nbformat": 4,
 "nbformat_minor": 5
}
