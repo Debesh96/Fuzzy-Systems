{
 "cells": [
  {
   "cell_type": "code",
   "execution_count": 43,
   "id": "8a4366e9-3b86-49a2-9822-0ef9a398ed80",
   "metadata": {},
   "outputs": [],
   "source": [
    "import numpy as np"
   ]
  },
  {
   "cell_type": "code",
   "execution_count": 44,
   "id": "0576755b-dd9f-47c2-b5e3-8826a1fdc263",
   "metadata": {},
   "outputs": [],
   "source": [
    "#checks if the membership value is valid or not\n",
    "def fuzzyset(length):\n",
    "  s = []\n",
    "  for i in range(int(length)):\n",
    "    n = input('Enter the elements and their membership values separated by comma:')\n",
    "    s.append(n.split(','))\n",
    "    if (float(s[i][1]) >= 0.0) and (float(s[i][1]) <= 1.0):\n",
    "      s = s\n",
    "      print (s[i][1] + ' is valid membership value')\n",
    "  \n",
    "    else:\n",
    "      print (s[i][1] + ' is invalid membership value')\n",
    "      s.remove(s[i])\n",
    "  return s\n",
    "\n",
    "#defuzzification functions\n",
    "def max_membership(f):\n",
    "    d = np.array(f, dtype = 'float64')\n",
    "    return [d[i][0] for i in range (len(d)) if d[i][1] == np.amax(d[0:,1:])]\n",
    "\n",
    "def mean_max_membership(f):\n",
    "    d = np.array(f, dtype = 'float64')\n",
    "    crisp_set = []\n",
    "    for i in range (len(d)):\n",
    "        if d[i][1] == np.amax(d[0:,1:]):\n",
    "            crisp_set.append(d[i][0])\n",
    "    return [sum(crisp_set)/len(crisp_set)]"
   ]
  },
  {
   "cell_type": "code",
   "execution_count": 45,
   "id": "45c4bb10-dd95-46dd-9d39-668207a158c7",
   "metadata": {},
   "outputs": [
    {
     "name": "stdin",
     "output_type": "stream",
     "text": [
      "Enter the length of fuzzy set:  4\n"
     ]
    },
    {
     "name": "stdout",
     "output_type": "stream",
     "text": [
      "-----------------------------------------\n",
      "Enter the first fuzzy set\n",
      "-----------------------------------------\n"
     ]
    },
    {
     "name": "stdin",
     "output_type": "stream",
     "text": [
      "Enter the elements and their membership values separated by comma: 6,1\n"
     ]
    },
    {
     "name": "stdout",
     "output_type": "stream",
     "text": [
      "1 is valid membership value\n"
     ]
    },
    {
     "name": "stdin",
     "output_type": "stream",
     "text": [
      "Enter the elements and their membership values separated by comma: 5.8,0.9\n"
     ]
    },
    {
     "name": "stdout",
     "output_type": "stream",
     "text": [
      "0.9 is valid membership value\n"
     ]
    },
    {
     "name": "stdin",
     "output_type": "stream",
     "text": [
      "Enter the elements and their membership values separated by comma: 5.7,0.6\n"
     ]
    },
    {
     "name": "stdout",
     "output_type": "stream",
     "text": [
      "0.6 is valid membership value\n"
     ]
    },
    {
     "name": "stdin",
     "output_type": "stream",
     "text": [
      "Enter the elements and their membership values separated by comma: 5.5,0.4\n"
     ]
    },
    {
     "name": "stdout",
     "output_type": "stream",
     "text": [
      "0.4 is valid membership value\n",
      "-----------------------------------------\n",
      "The first fuzzy set:  [['6', '1'], ['5.8', '0.9'], ['5.7', '0.6'], ['5.5', '0.4']]\n",
      "-----------------------------------------\n",
      "Enter the second fuzzy set\n",
      "-----------------------------------------\n"
     ]
    },
    {
     "name": "stdin",
     "output_type": "stream",
     "text": [
      "Enter the elements and their membership values separated by comma: 7,1\n"
     ]
    },
    {
     "name": "stdout",
     "output_type": "stream",
     "text": [
      "1 is valid membership value\n"
     ]
    },
    {
     "name": "stdin",
     "output_type": "stream",
     "text": [
      "Enter the elements and their membership values separated by comma: 6.9,1\n"
     ]
    },
    {
     "name": "stdout",
     "output_type": "stream",
     "text": [
      "1 is valid membership value\n"
     ]
    },
    {
     "name": "stdin",
     "output_type": "stream",
     "text": [
      "Enter the elements and their membership values separated by comma: 5.8,0.9\n"
     ]
    },
    {
     "name": "stdout",
     "output_type": "stream",
     "text": [
      "0.9 is valid membership value\n"
     ]
    },
    {
     "name": "stdin",
     "output_type": "stream",
     "text": [
      "Enter the elements and their membership values separated by comma: 5.5,0.6\n"
     ]
    },
    {
     "name": "stdout",
     "output_type": "stream",
     "text": [
      "0.6 is valid membership value\n",
      "The second fuzzy set:  [['7', '1'], ['6.9', '1'], ['5.8', '0.9'], ['5.5', '0.6']]\n",
      "-----------------------------------------\n",
      "The crisp set returned after using max membership function:  [6.0]\n",
      "-----------------------------------------\n",
      "The crisp set returned after using mean-max membership function:  [6.95]\n"
     ]
    }
   ],
   "source": [
    "l = input ('Enter the length of fuzzy set: ')\n",
    "print ('-----------------------------------------')\n",
    "print ('Enter the first fuzzy set')\n",
    "print ('-----------------------------------------')\n",
    "A = fuzzyset(l)\n",
    "print ('-----------------------------------------')\n",
    "print ('The first fuzzy set: ',A)\n",
    "print ('-----------------------------------------')\n",
    "print ('Enter the second fuzzy set')\n",
    "print ('-----------------------------------------')\n",
    "B = fuzzyset(l)\n",
    "print ('The second fuzzy set: ',B)\n",
    "print ('-----------------------------------------')\n",
    "print ('The crisp set returned after using max membership function: ', max_membership(A))\n",
    "print ('-----------------------------------------')\n",
    "print ('The crisp set returned after using mean-max membership function: ', mean_max_membership(B))"
   ]
  }
 ],
 "metadata": {
  "kernelspec": {
   "display_name": "Python 3 (ipykernel)",
   "language": "python",
   "name": "python3"
  },
  "language_info": {
   "codemirror_mode": {
    "name": "ipython",
    "version": 3
   },
   "file_extension": ".py",
   "mimetype": "text/x-python",
   "name": "python",
   "nbconvert_exporter": "python",
   "pygments_lexer": "ipython3",
   "version": "3.9.7"
  }
 },
 "nbformat": 4,
 "nbformat_minor": 5
}
